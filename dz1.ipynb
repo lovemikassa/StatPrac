{
  "nbformat": 4,
  "nbformat_minor": 0,
  "metadata": {
    "colab": {
      "provenance": [],
      "authorship_tag": "ABX9TyP7poWck7LlM0dzlu1hTt+Q",
      "include_colab_link": true
    },
    "kernelspec": {
      "name": "python3",
      "display_name": "Python 3"
    },
    "language_info": {
      "name": "python"
    }
  },
  "cells": [
    {
      "cell_type": "markdown",
      "metadata": {
        "id": "view-in-github",
        "colab_type": "text"
      },
      "source": [
        "<a href=\"https://colab.research.google.com/github/lovemikassa/StatPrac/blob/main/dz1.ipynb\" target=\"_parent\"><img src=\"https://colab.research.google.com/assets/colab-badge.svg\" alt=\"Open In Colab\"/></a>"
      ]
    },
    {
      "cell_type": "markdown",
      "source": [
        "**Задание 1.**\n"
      ],
      "metadata": {
        "id": "56_8tOVxJwSU"
      }
    },
    {
      "cell_type": "code",
      "source": [
        "tup = ([x for x in range(int(12345**0.5)+1) if x ** 2 % 12 == 0 and x ** 2 % 8 != 0 and x ** 2 <= 12345])\n",
        "print(tup)"
      ],
      "metadata": {
        "colab": {
          "base_uri": "https://localhost:8080/"
        },
        "id": "rOfjjXmxJzI3",
        "outputId": "bda88d21-3721-4476-bac9-fd5193fece00"
      },
      "execution_count": 1,
      "outputs": [
        {
          "output_type": "stream",
          "name": "stdout",
          "text": [
            "[6, 18, 30, 42, 54, 66, 78, 90, 102]\n"
          ]
        }
      ]
    },
    {
      "cell_type": "markdown",
      "source": [
        "**Задание 2.**"
      ],
      "metadata": {
        "id": "5cNR8tjCK3jQ"
      }
    },
    {
      "cell_type": "code",
      "source": [
        "def fu(arr, st):\n",
        "  if st == \"left\":\n",
        "    return [list(row) for row in zip(*arr)][::-1]\n",
        "  elif st == \"right\":\n",
        "    return [list(row) for row in zip(*arr[::-1])]\n",
        "  else:\n",
        "    print(\"Error\")\n",
        "arr = [[1, 2, 3], [4, 5, 6], [7, 8, 9]]\n",
        "t = fu(arr, \"left\")\n",
        "r = fu(arr, \"right\")\n",
        "print(t, r)\n",
        "u = fu(arr, \"a\")\n",
        "\n"
      ],
      "metadata": {
        "colab": {
          "base_uri": "https://localhost:8080/"
        },
        "id": "g84x0QAdMGuk",
        "outputId": "d09dc54a-d24f-4a5c-9ffe-0cf48490c364"
      },
      "execution_count": 9,
      "outputs": [
        {
          "output_type": "stream",
          "name": "stdout",
          "text": [
            "[[3, 6, 9], [2, 5, 8], [1, 4, 7]] [[7, 4, 1], [8, 5, 2], [9, 6, 3]]\n",
            "Error\n"
          ]
        }
      ]
    },
    {
      "cell_type": "code",
      "source": [
        "def func(array, stroka):\n",
        "  newarray = [[array[i][j] for i in range(len(array)-1, -1, -1)] for j in range(0, len(array[0]), 1)]\n",
        "  return newarray if stroka == \"right\" else func (func(newarray, \"right\"), \"right\")\n",
        "array = [[1, 2, 3], [4, 5, 6], [7, 8, 9]]\n",
        "t = func(array, \"left\")\n",
        "print(t)"
      ],
      "metadata": {
        "colab": {
          "base_uri": "https://localhost:8080/"
        },
        "id": "mrpR-GFhK1kW",
        "outputId": "5a75d138-d83d-413a-d13f-46ffee05d93d"
      },
      "execution_count": null,
      "outputs": [
        {
          "output_type": "stream",
          "name": "stdout",
          "text": [
            "[[3, 6, 9], [2, 5, 8], [1, 4, 7]]\n"
          ]
        }
      ]
    },
    {
      "cell_type": "markdown",
      "source": [
        "**Задание 3.**"
      ],
      "metadata": {
        "id": "c9tXIFUh1D-0"
      }
    },
    {
      "cell_type": "code",
      "source": [
        "def fun(stroka):\n",
        "  return {list(stroka)[i] : stroka.count(list(stroka)[i]) for i in range(len(stroka))}\n",
        "stroka = \"hello, world!\"\n",
        "print(fun(stroka))"
      ],
      "metadata": {
        "colab": {
          "base_uri": "https://localhost:8080/"
        },
        "id": "PsSo0uoS8iTg",
        "outputId": "d86d68ef-cc12-4de8-cea0-434a1eb740ec"
      },
      "execution_count": null,
      "outputs": [
        {
          "output_type": "stream",
          "name": "stdout",
          "text": [
            "{'h': 1, 'e': 1, 'l': 3, 'o': 2, ',': 1, ' ': 1, 'w': 1, 'r': 1, 'd': 1, '!': 1}\n"
          ]
        }
      ]
    },
    {
      "cell_type": "markdown",
      "source": [
        "**Задание 4.**"
      ],
      "metadata": {
        "id": "qyJX1NJv91RH"
      }
    },
    {
      "cell_type": "code",
      "source": [
        "class Book:\n",
        "  #constructor\n",
        "    def __init__(self, title, author, year, isbn, copies):\n",
        "        self.title = title\n",
        "        self.author = author\n",
        "        self.year = year\n",
        "        self.isbn = isbn\n",
        "        self.copies = copies\n",
        "        print(f\"Book {title} created\")\n",
        "    #method to get info\n",
        "    def display_info(self):\n",
        "        return f\"Title {self.title} by author {self.author}, publication in {self.year}, ISBN is {self.isbn}, number of copies {self.copies}.\"\n",
        "    #method to change the number of copies\n",
        "    def issuing_copies(self):\n",
        "      if self.copies == 0:\n",
        "        print(\"Error\")\n",
        "      self.copies -= 1\n",
        "    def returning_copies(self):\n",
        "      self.copies += 1\n",
        "\n",
        "class User:\n",
        "    def __init__(self, name, card):\n",
        "        self.name = name\n",
        "        self.card = card\n",
        "        self.list_borrow_book = []\n",
        "\n",
        "    def registration(self):\n",
        "      return f\"\\n User {self.name} registered with library card name {self.card}.\\n\"\n",
        "    #method to borrow a book\n",
        "    def borrow_book(self, book):\n",
        "        if book in self.list_borrow_book:\n",
        "          return False\n",
        "        elif book.issuing_copies():\n",
        "          self.list_borrow_book.append(book)\n",
        "          return True\n",
        "        return False\n",
        "    #method to return a book\n",
        "    def return_book(self, book):\n",
        "        if book in self.list_borrow_book:\n",
        "          self.list_borrow_book.remove(book)\n",
        "          book.returning_book()\n",
        "          return True\n",
        "        return False\n",
        "\n",
        "class Library:\n",
        "    def __init__(self):\n",
        "        self.list_books = []\n",
        "        self.list_users = []\n",
        "        self.transaction_history = []\n",
        "    #method to add a book\n",
        "    def add_book(self, book):\n",
        "        self.list_books.append(book)\n",
        "    #method to delete a book\n",
        "    def delete_book(self, book):\n",
        "      if book in self.list_users:\n",
        "          self.list_books.remove(book)\n",
        "          return True\n",
        "      else:\n",
        "        return False\n",
        "    #method to add a new person\n",
        "    def add_user(self, user):\n",
        "      self.list_users.append(user)\n",
        "    #method to delete a person\n",
        "    def delete_user(self, n):\n",
        "      for user in self.list_users:\n",
        "        if user.card == n:\n",
        "          self.list_users.remove(user)\n",
        "          return True\n",
        "      return False\n",
        "    #method to search a person\n",
        "    def search_users(self, name):\n",
        "        find = []\n",
        "        for user in self.list_users:\n",
        "          if name in user.name:\n",
        "            find.append(user.registration())\n",
        "        return find\n",
        "    #method to search a book\n",
        "    def search_book(self, title, author):\n",
        "      find = []\n",
        "      for book in self.list_books:\n",
        "        if (title in book.title) or (author in book.author):\n",
        "          find.append(book.display_info())\n",
        "      return find\n",
        "    #method to see the transacition history\n",
        "    def history(self):\n",
        "        return self.transaction_history\n",
        "\n",
        "\n",
        "#Example usage\n",
        "library = Library()\n",
        "book1 = Book(\"Harry Potter and the Sorcerer's Stone\", \"Rowling, J. K\", 1997, \"9781338878929\", 4)\n",
        "book2 = Book(\"Harry Potter and the Chamber of Secrets\", \"Rowling, J. K\", 1998 , \"9781338878936\", 2)\n",
        "print(library.add_book(book1))\n",
        "print(library.add_book(book2))\n",
        "user1 = User(\"Dasha\", \"01\")\n",
        "user2 = User(\"Sasha\", \"02\")\n",
        "library.add_user(user1)\n",
        "library.add_user(user2)\n",
        "print(library.search_users(\"Dasha\"))\n",
        "print(library.search_book(\"Harry Potter and the Sorcerer's Stone\", \"Rowling, J. K\"))\n",
        "\n",
        "\n",
        "\n",
        "\n",
        "\n"
      ],
      "metadata": {
        "colab": {
          "base_uri": "https://localhost:8080/"
        },
        "id": "bFGAXN_p93kn",
        "outputId": "1f9d6e34-eb21-49b1-cfbb-3bde3ff9d2d5"
      },
      "execution_count": null,
      "outputs": [
        {
          "output_type": "stream",
          "name": "stdout",
          "text": [
            "Book Harry Potter and the Sorcerer's Stone created\n",
            "Book Harry Potter and the Chamber of Secrets created\n",
            "None\n",
            "None\n",
            "['\\n User Dasha registered with library card name 01.\\n']\n",
            "[\"Title Harry Potter and the Sorcerer's Stone by author Rowling, J. K, publication in 1997, ISBN is 9781338878929, number of copies 4.\", 'Title Harry Potter and the Chamber of Secrets by author Rowling, J. K, publication in 1998, ISBN is 9781338878936, number of copies 2.']\n"
          ]
        }
      ]
    },
    {
      "cell_type": "markdown",
      "source": [
        "**Задание 5.**\n",
        "(b = a) b и a указывают на один и тот же массив в памяти; когда a[0] = 4, те была изменена ячейка в памяти, на которую указывают b и a => b тоже изменится"
      ],
      "metadata": {
        "id": "1LnDipu994W3"
      }
    },
    {
      "cell_type": "code",
      "source": [
        "a = [1, 2, 3]\n",
        "b = a\n",
        "a[0] = 4\n",
        "print(b)"
      ],
      "metadata": {
        "colab": {
          "base_uri": "https://localhost:8080/"
        },
        "id": "WkP85AYyli8K",
        "outputId": "cbcbd470-8101-42af-f98e-7c56dbcf83c8"
      },
      "execution_count": null,
      "outputs": [
        {
          "output_type": "stream",
          "name": "stdout",
          "text": [
            "[4, 2, 3]\n"
          ]
        }
      ]
    },
    {
      "cell_type": "markdown",
      "source": [
        "**Задание 6.** Число с плавающей точкой состоит из: знака числа (знака мантиссы), мантиссы, порядка и хранится в нормализованной форме. При выполнении действий результат обычно оказывается неточным, одна их причин - округление значения до походящего машинно-представимого числа.\n",
        "Поэтому лучше сначала складывать числа с меньшими значениями, а затем уже с большими => вариант B лучше, чем A\n"
      ],
      "metadata": {
        "id": "Jkghiw5j97RI"
      }
    },
    {
      "cell_type": "code",
      "source": [
        "A = sum(1 / i ** 2 for i in range (1, 1001))\n",
        "B = sum(1 / i ** 2 for i in range (1000, 0, -1))\n",
        "print(A-B)"
      ],
      "metadata": {
        "colab": {
          "base_uri": "https://localhost:8080/"
        },
        "id": "XdsGDL5poCUu",
        "outputId": "3feae542-5ac2-43df-e732-0667b4acfec8"
      },
      "execution_count": null,
      "outputs": [
        {
          "output_type": "stream",
          "name": "stdout",
          "text": [
            "1.7763568394002505e-15\n"
          ]
        }
      ]
    }
  ]
}